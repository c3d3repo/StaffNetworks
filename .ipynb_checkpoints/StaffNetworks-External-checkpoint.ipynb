{
 "cells": [
  {
   "cell_type": "markdown",
   "metadata": {},
   "source": [
    "# Using network analysis to efficiently spread data awareness"
   ]
  },
  {
   "cell_type": "code",
   "execution_count": null,
   "metadata": {},
   "outputs": [],
   "source": [
    "import plotly.plotly as py\n",
    "import plotly.graph_objs as go\n",
    "import seaborn as sns\n",
    "\n",
    "import networkx as nx\n",
    "import pandas as pd\n",
    "import numpy as np\n",
    "\n",
    "\n",
    "from plotly.offline import download_plotlyjs, init_notebook_mode, plot, iplot\n",
    "init_notebook_mode(connected=True)\n"
   ]
  },
  {
   "cell_type": "code",
   "execution_count": null,
   "metadata": {},
   "outputs": [],
   "source": [
    "fname = 'AnonymisedStaff.csv'\n",
    "\n",
    "allstaffdata = pd.read_csv(fname, encoding = \"ISO-8859-1\")\n",
    "colTypes = {'ID': str, 'Department': str, 'Manager': str, 'Location': str, 'DataFan': str}\n",
    "allstaffdata = pd.read_csv(fname, encoding = \"ISO-8859-1\", dtype = colTypes)\n",
    "\n"
   ]
  },
  {
   "cell_type": "code",
   "execution_count": null,
   "metadata": {},
   "outputs": [],
   "source": [
    "allstaffdata.columns\n",
    "allstaffdata.head()\n",
    "## For anonymised data:\n",
    "department = 'Department'\n",
    "identifier = 'ID' \n",
    "manager = 'Manager'\n",
    "location = 'Location'\n"
   ]
  },
  {
   "cell_type": "markdown",
   "metadata": {},
   "source": [
    "## Where are the data staff?\n",
    "* Which departments?\n",
    "* Which company locations?\n",
    "* Which teams (indicated by line managers)?"
   ]
  },
  {
   "cell_type": "code",
   "execution_count": null,
   "metadata": {
    "scrolled": false
   },
   "outputs": [],
   "source": [
    "staffdata = allstaffdata\n",
    "\n",
    "datafans = staffdata[staffdata['DataFan']=='yes']\n",
    "#List of departments covered by data fans\n",
    "DFDepartments = np.unique(datafans[[department]])\n",
    "Departments = np.unique(staffdata[[department]])\n",
    "#List of locations covered by data fans\n",
    "DFLocations = np.unique(datafans[[location]])\n",
    "Locations = np.unique(staffdata[[location]])\n",
    "#List of data fan line managers\n",
    "DFManagers = np.unique(datafans[[manager]])\n",
    "Managers = np.unique(staffdata[[manager]])\n",
    "\n",
    "print('#Data fans: {}'.format(len(datafans)))\n",
    "\n",
    "#Coverage of data fans:\n",
    "print('#Departments covered by data fans: {} out of {}'.format(len(DFDepartments), len(Departments)))\n",
    "print('#staff covered: {} out of {}\\n'.format(len(staffdata[staffdata[department].isin(DFDepartments)]), len(staffdata)))\n",
    "print(DFDepartments)\n",
    "print('#Locations covered by data fans: {} out of {}'.format(len(DFLocations), len(Locations)))\n",
    "print('#staff covered: {} out of {}\\n'.format(len(staffdata[staffdata[location].isin(DFLocations)]), len(staffdata)))\n",
    "print(DFLocations)\n",
    "print('#Managers covered by data fans: {} out of {}'.format(len(DFManagers), len(Managers)))\n",
    "print('#staff covered: {} out of {}\\n'.format(len(staffdata[staffdata[manager].isin(DFManagers)]), len(staffdata)))\n",
    "print(DFManagers)\n",
    "\n",
    "#Identify more susceptible staff members in terms of sharing the same departments, locations or teams as existing fans.\n",
    "staffdata['PotentialDepartmentDataFan'] = np.where(staffdata[department].isin(DFDepartments), 'yes', 'no')\n",
    "staffdata['PotentialLocationDataFan'] = np.where(staffdata[location].isin(DFLocations), 'yes', 'no')\n",
    "staffdata['PotentialManagerDataFan'] = np.where(staffdata[manager].isin(DFManagers), 'yes', 'no')\n",
    "\n",
    "staffdata[staffdata[identifier].isin(datafans[[identifier]])]['PotentialLocationDataFan'] = 'yes'\n",
    "staffdata[staffdata[identifier].isin(datafans[[identifier]])]['PotentialDepartmentDataFan'] = 'yes'\n",
    "staffdata[staffdata[identifier].isin(datafans[[identifier]])]['PotentialManagerDataFan'] = 'yes'"
   ]
  },
  {
   "cell_type": "markdown",
   "metadata": {
    "scrolled": false
   },
   "source": [
    "### Data fans in the staff network\n"
   ]
  },
  {
   "cell_type": "code",
   "execution_count": null,
   "metadata": {},
   "outputs": [],
   "source": [
    "import networkx as nx\n",
    "#https://plot.ly/python/igraph-networkx-comparison/ (Comparison of two of the main Python network libraries.)\n",
    "\n",
    "#The line management network\n",
    "G = nx.convert_matrix.from_pandas_edgelist(staffdata, source=manager, target=identifier, \n",
    "                                           create_using=nx.DiGraph)\n",
    "edges = pd.DataFrame({'target' : staffdata[identifier],\n",
    "                      'source' : staffdata[manager]})\n",
    "\n",
    "nodes = pd.DataFrame({'node' : staffdata[identifier],\n",
    "                      'name' : staffdata[identifier],\n",
    "                      'Department' : staffdata[department],\n",
    "                      'Manager': staffdata[manager],\n",
    "                      'Location' : staffdata[location],\n",
    "                      'DataFan': staffdata['DataFan'],\n",
    "                     'PotentialDepartmentDataFan': staffdata['PotentialDepartmentDataFan'],\n",
    "                     'PotentialLocationDataFan': staffdata['PotentialLocationDataFan'],\n",
    "                     'PotentialManagerDataFan': staffdata['PotentialManagerDataFan']})\n",
    "\n"
   ]
  },
  {
   "cell_type": "code",
   "execution_count": null,
   "metadata": {
    "scrolled": true
   },
   "outputs": [],
   "source": [
    "#Get the team network - management as proxy for connections between individuals (team membership). \n",
    "#Two employees are connected if they share the same line manager.\n",
    "#Get the list of managers (teams)\n",
    "from itertools import permutations, chain\n",
    "\n",
    "managers = staffdata[manager].unique()\n",
    "manager_teams = {};\n",
    "for mgr in managers:\n",
    "    manager_teams[mgr] = staffdata[staffdata[manager]== mgr][identifier].tolist()\n",
    "\n",
    "#Permutations to get links between staff of the same team.\n",
    "team_links = [list(permutations(team, 2)) for team in manager_teams.values()] \n",
    "team_links = list(chain(*team_links))\n",
    "\n",
    "#Add the team network to the existing network from line management.\n",
    "G.add_edges_from(team_links) \n",
    "  \n"
   ]
  },
  {
   "cell_type": "code",
   "execution_count": null,
   "metadata": {},
   "outputs": [],
   "source": [
    "# Some centrality measures\n",
    "d = nx.degree(G)\n",
    "c = nx.degree_centrality(G)\n",
    "b = nx.betweenness_centrality(G)"
   ]
  },
  {
   "cell_type": "code",
   "execution_count": null,
   "metadata": {
    "scrolled": false
   },
   "outputs": [],
   "source": [
    "## NB there are some managers who are in the graph but not in staffdata because they are externals, so\n",
    "##there are a greater number of nodes in G than there are records in staffdata.\n",
    "\n",
    "degreesdict = {name:degree for name, degree in d}\n",
    "\n",
    "degrees = pd.DataFrame.from_dict(degreesdict, orient='index')\n",
    "centralities = pd.DataFrame.from_dict(c, orient='index')\n",
    "betweenness = pd.DataFrame.from_dict(b, orient='index')\n",
    "degrees.columns = ['Degree']\n",
    "centralities.columns = ['DegreeCentrality']\n",
    "betweenness.columns = ['BetweennessCentrality']\n",
    "print(degrees.sort_values(by='Degree', ascending=False).head(20))\n",
    "print(centralities.sort_values(by='DegreeCentrality', ascending=False).head(20))\n",
    "print(betweenness.sort_values(by='BetweennessCentrality', ascending=False).head(20))\n",
    "\n",
    "datafannames = datafans[identifier].tolist()\n",
    "fandegrees = degrees[degrees.index.isin(datafannames)]\n",
    "fancentralities = centralities[centralities.index.isin(datafannames)]\n",
    "fanbetweenness = betweenness[betweenness.index.isin(datafannames)]\n",
    "\n",
    "print(fandegrees.sort_values(by='Degree', ascending=False).head())\n",
    "print(fancentralities.sort_values(by='DegreeCentrality', ascending=False).head())\n",
    "print(fanbetweenness.sort_values(by='BetweennessCentrality', ascending=False).head())\n"
   ]
  },
  {
   "cell_type": "code",
   "execution_count": null,
   "metadata": {},
   "outputs": [],
   "source": [
    "# Join degrees data to other data\n",
    "staffdata = staffdata.merge(degrees, left_on=identifier, right_on=degrees.index)\n",
    "staffdata = staffdata.merge(centralities, left_on=identifier, right_on=degrees.index)"
   ]
  },
  {
   "cell_type": "code",
   "execution_count": null,
   "metadata": {},
   "outputs": [],
   "source": [
    "def plotMetricHist(df, colname='Degree'):\n",
    "    \n",
    "    data = [go.Histogram(x=df[colname])]\n",
    "    layout = go.Layout(\n",
    "        xaxis=dict(\n",
    "            #type='log',\n",
    "            autorange=True\n",
    "        ),\n",
    "        yaxis=dict(\n",
    "            #type='log',\n",
    "            autorange=True\n",
    "        )\n",
    "    )\n",
    "    fig = go.Figure(data=data, layout=layout)\n",
    "    iplot(fig)\n",
    "    "
   ]
  },
  {
   "cell_type": "code",
   "execution_count": null,
   "metadata": {},
   "outputs": [],
   "source": [
    "plotMetricHist(staffdata, 'Degree')\n",
    "#plotMetricHist(staffdata, 'DegreeCentrality')"
   ]
  },
  {
   "cell_type": "code",
   "execution_count": null,
   "metadata": {},
   "outputs": [],
   "source": [
    "staffdata.head()"
   ]
  },
  {
   "cell_type": "code",
   "execution_count": null,
   "metadata": {
    "scrolled": false
   },
   "outputs": [],
   "source": [
    "#Network drawing function.\n",
    "def drawnetwork(staffdata=staffdata, field='DataFan', d=d, dthreshold=2, sizefield='Degree', \n",
    "                sizemultiplier=3, G=G):\n",
    "    \n",
    "    #Formatting settings\n",
    "    #Set colour mappings to field    \n",
    "    flist = staffdata[field].unique()\n",
    "    numcolours = len(flist)\n",
    "    colours = sns.color_palette(\"hls\", numcolours)\n",
    "    colourmappings = dict(zip(flist, colours))\n",
    "    \n",
    "    #Filtering by degree\n",
    "    #Remove nodes with degree (d) below threshold (dthreshold)\n",
    "    selected_nodes = [n for n in nodes.name if d[n] > dthreshold]\n",
    "    plotgraph = G.subgraph(selected_nodes)\n",
    "    \n",
    "    # Set node positions\n",
    "    pos = nx.spring_layout(plotgraph, seed=0)\n",
    "    for node in plotgraph.nodes():\n",
    "        plotgraph.node[node]['pos']= pos[node]\n",
    "        \n",
    "    # Set other node attributes\n",
    "    excluded = []\n",
    "    xlist = []\n",
    "    ylist = []\n",
    "    textlist = []\n",
    "    sizelist = []\n",
    "    namelist = []\n",
    "    colourlist = []\n",
    "    \n",
    "    \n",
    "\n",
    "    for node in plotgraph.nodes():\n",
    "       \n",
    "    \n",
    "        try:\n",
    "            \n",
    "        \n",
    "            f = nodes[nodes['name']==node][field].values[0]\n",
    "        \n",
    "            x, y = plotgraph.node[node]['pos']\n",
    "            xlist.append(x)\n",
    "            ylist.append(y)\n",
    "            \n",
    "            ## Add node labels for hover over text\n",
    "            text = node + ' <br>#connections: ' + str(d[node])\n",
    "            textlist.append(text)\n",
    "            \n",
    "            ## Size the node depending on sizefield and sizemultiplier\n",
    "            if sizefield=='':\n",
    "                size = 1;\n",
    "            else:\n",
    "                size = staffdata[staffdata[identifier]==node][sizefield].values[0]\n",
    "            sizelist.append(size * sizemultiplier)\n",
    "            \n",
    "            ## Map the colours to the nodes depending on the field values\n",
    "            fcolour = 'rgba({}, {}, {}, {})'.format(colourmappings[f][0], colourmappings[f][1], colourmappings[f][2], .8)    \n",
    "            colourlist.append(fcolour)\n",
    "    \n",
    "        except:\n",
    "            excluded.append(node)\n",
    "        \n",
    "    print('Number of nodes excluded because {} not given: {}\\n'.format(field, len(excluded)))\n",
    "\n",
    "   \n",
    "    \n",
    "\n",
    "    ## Create the visualisation\n",
    "    xlistedge =[]\n",
    "    ylistedge = []\n",
    "    \n",
    "    for edge in plotgraph.edges():\n",
    "        x0, y0 = plotgraph.node[edge[0]]['pos']\n",
    "        x1, y1 = plotgraph.node[edge[1]]['pos']\n",
    "        xlistedge += [x0, x1, None]\n",
    "        ylistedge += [y0, y1, None]        \n",
    "        \n",
    "    # Create edge trace:\n",
    "    edge_trace = go.Scatter(x = xlistedge, y = ylistedge, text = textlist,\n",
    "                    line = go.scatter.Line(width = 0.5, color = '#888'),\n",
    "                    mode = 'lines', hoverinfo = 'none')\n",
    "    \n",
    "    # Create node trace:\n",
    "    node_trace = go.Scatter(x = xlist, y = ylist, text = textlist, mode = 'markers',\n",
    "                    hoverinfo='text',\n",
    "                    marker = go.scatter.Marker(\n",
    "                    color = colourlist,\n",
    "                    size = sizelist,\n",
    "                    line = dict(color='rgb(50,50,50)', width=0.5)))\n",
    "\n",
    "\n",
    "    data=[node_trace, edge_trace]\n",
    "    layout = go.Layout(title=field, \n",
    "                   showlegend=False, \n",
    "                   xaxis=dict(\n",
    "                   autorange=True,\n",
    "                   showgrid=False,\n",
    "                   zeroline=False,\n",
    "                   showline=False,\n",
    "                   ticks='',\n",
    "                   showticklabels=False),\n",
    "            yaxis=dict(\n",
    "                autorange=True,\n",
    "                showgrid=False,\n",
    "                zeroline=False,\n",
    "                showline=False,\n",
    "                ticks='',\n",
    "                showticklabels=False\n",
    "            )\n",
    "        )\n",
    "\n",
    "    fig = go.Figure(data=data, layout=layout)\n",
    "    iplot(fig, filename='Staff network')\n",
    "    "
   ]
  },
  {
   "cell_type": "code",
   "execution_count": null,
   "metadata": {
    "scrolled": false
   },
   "outputs": [],
   "source": [
    "drawnetwork(sizefield='')\n",
    "drawnetwork()"
   ]
  },
  {
   "cell_type": "markdown",
   "metadata": {},
   "source": [
    "## Making Marketing Decisions based on network analysis\n",
    "\n",
    "We can use very simple network analyses to decide how best to use our data fans to spread the message. For example, we can compare the networks that would result if they spread the message to staff in their departments vs. focusing on staff in their location vs. spreading to their team (as indicated by shared managers).  \n"
   ]
  },
  {
   "cell_type": "code",
   "execution_count": null,
   "metadata": {},
   "outputs": [],
   "source": [
    "## Show what might happen over time:\n",
    "\n",
    "def networkevolution(df=staffdata, numsteps=3, transfield=department, infectfield='DataFan'):\n",
    "    \n",
    "    network = df.copy(deep=True)\n",
    "    print('Network evolution over {} time steps based on shared {}s: '.format(numsteps, transfield))\n",
    "    \n",
    "    \n",
    "    for i in range(0, numsteps):\n",
    "        drawnetwork(staffdata=network, field=infectfield)\n",
    "        \n",
    "        infected = network[network[infectfield]=='yes']\n",
    "        \n",
    "        #List of field values covered by infected\n",
    "        infectedVals = np.unique(infected[[transfield]])\n",
    "        vals = np.unique(network[[transfield]])\n",
    "        \n",
    "        print('#{}s covered by infected: {} out of {}'.format(transfield, len(infectedVals), len(vals)))\n",
    "        print('#staff infected: {} out of {} at t {}'.format(len(infected), len(network), i))\n",
    "        \n",
    "        print(infectedVals)\n",
    "        \n",
    "        network['next'] = np.where(network[transfield].isin(infectedVals), 'yes', 'no')\n",
    "        print('#staff next infected: {} out of {}'.format(len(network[network['next']=='yes']), len(network)))\n",
    "        \n",
    "        #List of field values covered by infected\n",
    "        infectedVals = np.unique(infected[[transfield]])\n",
    "        vals = np.unique(network[[transfield]])\n",
    "        \n",
    "    \n",
    "        network[network[identifier].isin(infected[identifier].values)]['next'] = 'yes'\n",
    "        #If the field is also a member of staff (e.g. manager), then they also need to be infected.\n",
    "        network[network[identifier].isin(infectedVals)]['next'] = 'yes'\n",
    "        \n",
    "        network.loc[:, infectfield] = network['next'].values\n",
    "        print('Check reset: {}\\n'.format(network[infectfield].equals(network['next'])))\n",
    "        \n",
    "        "
   ]
  },
  {
   "cell_type": "code",
   "execution_count": null,
   "metadata": {
    "scrolled": true
   },
   "outputs": [],
   "source": [
    "networkevolution(transfield=department)\n",
    "networkevolution(transfield=manager)\n",
    "networkevolution(transfield=location)"
   ]
  },
  {
   "cell_type": "markdown",
   "metadata": {},
   "source": [
    "### Who should I target next?\n"
   ]
  },
  {
   "cell_type": "code",
   "execution_count": null,
   "metadata": {},
   "outputs": [],
   "source": [
    "#Get the top x most connected individuals\n",
    "numtop = 20\n",
    "sortdegrees = staffdata.sort_values(by='Degree', ascending=False)\n",
    "print(sortdegrees.head(numtop))"
   ]
  },
  {
   "cell_type": "markdown",
   "metadata": {},
   "source": [
    "### How many disconnected networks are there (in terms of the management structure)?\n",
    "It is useful to know how many disconnected networks there are so that 'islands' can be targeted separately."
   ]
  },
  {
   "cell_type": "code",
   "execution_count": null,
   "metadata": {},
   "outputs": [],
   "source": [
    "subgraphs = list(nx.weakly_connected_component_subgraphs(G))\n",
    "print('#Distinct staff networks: {}\\n'.format(len(subgraphs)))\n",
    "subgraphsizes = [nx.number_of_nodes(subgraphs[i]) for i in range(0, len(subgraphs))]\n",
    "print(subgraphsizes)\n",
    "\n",
    "# Draw the two largest subgraphs\n",
    "drawnetwork(field='DataFan', G=subgraphs[0])\n",
    "drawnetwork(field='DataFan', G=subgraphs[1], dthreshold=0)\n",
    "\n",
    "\n"
   ]
  }
 ],
 "metadata": {
  "anaconda-cloud": {},
  "kernelspec": {
   "display_name": "Python 3",
   "language": "python",
   "name": "python3"
  },
  "language_info": {
   "codemirror_mode": {
    "name": "ipython",
    "version": 3
   },
   "file_extension": ".py",
   "mimetype": "text/x-python",
   "name": "python",
   "nbconvert_exporter": "python",
   "pygments_lexer": "ipython3",
   "version": "3.7.1"
  }
 },
 "nbformat": 4,
 "nbformat_minor": 2
}
